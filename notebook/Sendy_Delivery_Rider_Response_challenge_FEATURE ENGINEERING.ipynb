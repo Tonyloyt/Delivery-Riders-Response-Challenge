{
 "cells": [
  {
   "cell_type": "markdown",
   "id": "b9fed042",
   "metadata": {},
   "source": [
    "## PART C: FEATURE ENGINEERING"
   ]
  },
  {
   "cell_type": "code",
   "execution_count": 1,
   "id": "dbd44a89",
   "metadata": {},
   "outputs": [],
   "source": [
    "import pandas as pd\n",
    "import numpy as np\n",
    "import matplotlib.pyplot as plt\n",
    "import seaborn as sns\n",
    "\n",
    "import warnings\n",
    "warnings.filterwarnings('ignore')\n",
    "\n",
    "%matplotlib inline"
   ]
  },
  {
   "cell_type": "code",
   "execution_count": 2,
   "id": "87b722d5",
   "metadata": {},
   "outputs": [
    {
     "data": {
      "text/html": [
       "<div>\n",
       "<style scoped>\n",
       "    .dataframe tbody tr th:only-of-type {\n",
       "        vertical-align: middle;\n",
       "    }\n",
       "\n",
       "    .dataframe tbody tr th {\n",
       "        vertical-align: top;\n",
       "    }\n",
       "\n",
       "    .dataframe thead th {\n",
       "        text-align: right;\n",
       "    }\n",
       "</style>\n",
       "<table border=\"1\" class=\"dataframe\">\n",
       "  <thead>\n",
       "    <tr style=\"text-align: right;\">\n",
       "      <th></th>\n",
       "      <th>ID</th>\n",
       "      <th>order_id</th>\n",
       "      <th>dispatch_day</th>\n",
       "      <th>dispatch_day_of_week</th>\n",
       "      <th>dispatch_time</th>\n",
       "      <th>client_id</th>\n",
       "      <th>client_type</th>\n",
       "      <th>order_license_status</th>\n",
       "      <th>order_carrier_type</th>\n",
       "      <th>vendor_type</th>\n",
       "      <th>...</th>\n",
       "      <th>rider_long</th>\n",
       "      <th>pickup_lat</th>\n",
       "      <th>pickup_long</th>\n",
       "      <th>drop_off_lat</th>\n",
       "      <th>drop_off_long</th>\n",
       "      <th>target</th>\n",
       "      <th>Rider ID</th>\n",
       "      <th>Active Rider Age</th>\n",
       "      <th>Average Partner Rating</th>\n",
       "      <th>Number of Ratings</th>\n",
       "    </tr>\n",
       "  </thead>\n",
       "  <tbody>\n",
       "    <tr>\n",
       "      <th>0</th>\n",
       "      <td>ID_SCUW21PVAU</td>\n",
       "      <td>4435</td>\n",
       "      <td>27</td>\n",
       "      <td>6</td>\n",
       "      <td>09:02:54</td>\n",
       "      <td>593630</td>\n",
       "      <td>Business</td>\n",
       "      <td>0</td>\n",
       "      <td>2</td>\n",
       "      <td>Bike</td>\n",
       "      <td>...</td>\n",
       "      <td>-17.228539</td>\n",
       "      <td>-42.692371</td>\n",
       "      <td>-17.248305</td>\n",
       "      <td>-42.687442</td>\n",
       "      <td>-17.424682</td>\n",
       "      <td>1</td>\n",
       "      <td>30153</td>\n",
       "      <td>11</td>\n",
       "      <td>10.00</td>\n",
       "      <td>1</td>\n",
       "    </tr>\n",
       "    <tr>\n",
       "      <th>1</th>\n",
       "      <td>ID_2HA7X30JMN</td>\n",
       "      <td>32711</td>\n",
       "      <td>30</td>\n",
       "      <td>7</td>\n",
       "      <td>13:01:37</td>\n",
       "      <td>837729</td>\n",
       "      <td>Personal</td>\n",
       "      <td>0</td>\n",
       "      <td>1</td>\n",
       "      <td>Bike</td>\n",
       "      <td>...</td>\n",
       "      <td>-17.288252</td>\n",
       "      <td>-42.784046</td>\n",
       "      <td>-17.290121</td>\n",
       "      <td>-42.673267</td>\n",
       "      <td>-17.234595</td>\n",
       "      <td>2</td>\n",
       "      <td>20884</td>\n",
       "      <td>68</td>\n",
       "      <td>24.13</td>\n",
       "      <td>229</td>\n",
       "    </tr>\n",
       "    <tr>\n",
       "      <th>2</th>\n",
       "      <td>ID_IAJWDTBY6M</td>\n",
       "      <td>8712</td>\n",
       "      <td>14</td>\n",
       "      <td>2</td>\n",
       "      <td>10:01:00</td>\n",
       "      <td>695129</td>\n",
       "      <td>Personal</td>\n",
       "      <td>0</td>\n",
       "      <td>2</td>\n",
       "      <td>Bike</td>\n",
       "      <td>...</td>\n",
       "      <td>-17.287848</td>\n",
       "      <td>-42.765204</td>\n",
       "      <td>-17.293784</td>\n",
       "      <td>-42.813953</td>\n",
       "      <td>-17.294805</td>\n",
       "      <td>1</td>\n",
       "      <td>33143</td>\n",
       "      <td>273</td>\n",
       "      <td>24.92</td>\n",
       "      <td>123</td>\n",
       "    </tr>\n",
       "    <tr>\n",
       "      <th>3</th>\n",
       "      <td>ID_LKSVPNYMTR</td>\n",
       "      <td>44869</td>\n",
       "      <td>22</td>\n",
       "      <td>3</td>\n",
       "      <td>14:11:16</td>\n",
       "      <td>1504660</td>\n",
       "      <td>Personal</td>\n",
       "      <td>0</td>\n",
       "      <td>2</td>\n",
       "      <td>Bike</td>\n",
       "      <td>...</td>\n",
       "      <td>-17.311920</td>\n",
       "      <td>-42.831913</td>\n",
       "      <td>-17.315311</td>\n",
       "      <td>-42.812409</td>\n",
       "      <td>-17.265441</td>\n",
       "      <td>2</td>\n",
       "      <td>96531</td>\n",
       "      <td>168</td>\n",
       "      <td>23.76</td>\n",
       "      <td>175</td>\n",
       "    </tr>\n",
       "    <tr>\n",
       "      <th>4</th>\n",
       "      <td>ID_O7N8Y918YH</td>\n",
       "      <td>57590</td>\n",
       "      <td>27</td>\n",
       "      <td>5</td>\n",
       "      <td>16:11:38</td>\n",
       "      <td>36869</td>\n",
       "      <td>Business</td>\n",
       "      <td>0</td>\n",
       "      <td>2</td>\n",
       "      <td>Bike</td>\n",
       "      <td>...</td>\n",
       "      <td>-17.322818</td>\n",
       "      <td>-42.836056</td>\n",
       "      <td>-17.318111</td>\n",
       "      <td>-42.828517</td>\n",
       "      <td>-17.302052</td>\n",
       "      <td>0</td>\n",
       "      <td>103546</td>\n",
       "      <td>95</td>\n",
       "      <td>24.53</td>\n",
       "      <td>42</td>\n",
       "    </tr>\n",
       "  </tbody>\n",
       "</table>\n",
       "<p>5 rows × 25 columns</p>\n",
       "</div>"
      ],
      "text/plain": [
       "              ID  order_id  dispatch_day  dispatch_day_of_week dispatch_time  \\\n",
       "0  ID_SCUW21PVAU      4435            27                     6      09:02:54   \n",
       "1  ID_2HA7X30JMN     32711            30                     7      13:01:37   \n",
       "2  ID_IAJWDTBY6M      8712            14                     2      10:01:00   \n",
       "3  ID_LKSVPNYMTR     44869            22                     3      14:11:16   \n",
       "4  ID_O7N8Y918YH     57590            27                     5      16:11:38   \n",
       "\n",
       "   client_id client_type  order_license_status  order_carrier_type  \\\n",
       "0     593630    Business                     0                   2   \n",
       "1     837729    Personal                     0                   1   \n",
       "2     695129    Personal                     0                   2   \n",
       "3    1504660    Personal                     0                   2   \n",
       "4      36869    Business                     0                   2   \n",
       "\n",
       "  vendor_type  ...  rider_long  pickup_lat  pickup_long  drop_off_lat  \\\n",
       "0        Bike  ...  -17.228539  -42.692371   -17.248305    -42.687442   \n",
       "1        Bike  ...  -17.288252  -42.784046   -17.290121    -42.673267   \n",
       "2        Bike  ...  -17.287848  -42.765204   -17.293784    -42.813953   \n",
       "3        Bike  ...  -17.311920  -42.831913   -17.315311    -42.812409   \n",
       "4        Bike  ...  -17.322818  -42.836056   -17.318111    -42.828517   \n",
       "\n",
       "   drop_off_long  target  Rider ID  Active Rider Age  Average Partner Rating  \\\n",
       "0     -17.424682       1     30153                11                   10.00   \n",
       "1     -17.234595       2     20884                68                   24.13   \n",
       "2     -17.294805       1     33143               273                   24.92   \n",
       "3     -17.265441       2     96531               168                   23.76   \n",
       "4     -17.302052       0    103546                95                   24.53   \n",
       "\n",
       "   Number of Ratings  \n",
       "0                  1  \n",
       "1                229  \n",
       "2                123  \n",
       "3                175  \n",
       "4                 42  \n",
       "\n",
       "[5 rows x 25 columns]"
      ]
     },
     "execution_count": 2,
     "metadata": {},
     "output_type": "execute_result"
    }
   ],
   "source": [
    "# %Loading data\n",
    "df = pd.read_csv(\"../data/combined_data.csv\")\n",
    "df.head()"
   ]
  },
  {
   "cell_type": "markdown",
   "id": "68a22a5d",
   "metadata": {},
   "source": [
    "### FEATURE GENERATION"
   ]
  },
  {
   "cell_type": "markdown",
   "id": "b60f5a4a",
   "metadata": {},
   "source": [
    "#### [A]  DISPATCH TIME"
   ]
  },
  {
   "cell_type": "code",
   "execution_count": 3,
   "id": "3a6188bc",
   "metadata": {},
   "outputs": [
    {
     "data": {
      "image/png": "[encoded data removed]",
      "text/plain": [
       "<Figure size 1080x504 with 1 Axes>"
      ]
     },
     "metadata": {
      "needs_background": "light"
     },
     "output_type": "display_data"
    }
   ],
   "source": [
    "# %Convert time column to datetime\n",
    "df['dispatch_time'] = pd.to_datetime(df['dispatch_time'])\n",
    "\n",
    "# %Extract Hour Column\n",
    "df['dispatch_hour'] = df['dispatch_time'].dt.hour\n",
    "\n",
    "# %Let's view the hourly distribution of dispatches\n",
    "df['dispatch_hour'].value_counts().plot(kind='bar',figsize=[15,7])\n",
    "plt.show()"
   ]
  },
  {
   "cell_type": "markdown",
   "id": "db9b63a3",
   "metadata": {},
   "source": [
    "- We can see from 9 (morning) up to 16(evening) are the hours with more orders across the platform\n",
    "- Less orders placed during late hours and early morning "
   ]
  },
  {
   "cell_type": "code",
   "execution_count": 4,
   "id": "1e68e53e",
   "metadata": {},
   "outputs": [],
   "source": [
    "def categorize_hour(x):\n",
    "    \"\"\"\n",
    "        function to categorize hours into four categories early,day,evening and late\n",
    "    \"\"\"\n",
    "    if x <= 8:\n",
    "        return \"early\"\n",
    "    elif x>=9 and x<=16:\n",
    "        return \"day\"\n",
    "    elif x>16 and x<=20:\n",
    "        return \"evening\"\n",
    "    else:\n",
    "        return \"late\"\n",
    "    \n",
    "    \n",
    "# %Applying the function to the data\n",
    "df[\"cat_hour\"] = df[\"dispatch_hour\"].apply(categorize_hour)"
   ]
  },
  {
   "cell_type": "markdown",
   "id": "8e3fb539",
   "metadata": {},
   "source": [
    "#####  HOUR CATEGORIES WITH TARGET"
   ]
  },
  {
   "cell_type": "code",
   "execution_count": 5,
   "id": "fb5e7074",
   "metadata": {},
   "outputs": [
    {
     "data": {
      "image/png": "[encoded data removed]",
      "text/plain": [
       "<Figure size 1080x504 with 1 Axes>"
      ]
     },
     "metadata": {
      "needs_background": "light"
     },
     "output_type": "display_data"
    }
   ],
   "source": [
    "plt.figure(figsize=(15,7))\n",
    "sns.countplot(x = 'cat_hour', hue = 'target', data = df)\n",
    "plt.title('HOUR CATEGORIES WITH TARGET')\n",
    "plt.show()"
   ]
  },
  {
   "cell_type": "markdown",
   "id": "fee070e5",
   "metadata": {},
   "source": [
    "#####  HOUR CATEGORIES WITH CLIENT TYPE"
   ]
  },
  {
   "cell_type": "code",
   "execution_count": 6,
   "id": "8020ae82",
   "metadata": {},
   "outputs": [
    {
     "data": {
      "image/png": "[encoded data removed]",
      "text/plain": [
       "<Figure size 1080x504 with 1 Axes>"
      ]
     },
     "metadata": {
      "needs_background": "light"
     },
     "output_type": "display_data"
    }
   ],
   "source": [
    "plt.figure(figsize=(15,7))\n",
    "sns.countplot(x = 'cat_hour', hue = 'client_type', data = df)\n",
    "plt.title('HOUR CATEGORIES WITH CLIENT TYPE')\n",
    "plt.show()"
   ]
  },
  {
   "cell_type": "markdown",
   "id": "18b08207",
   "metadata": {},
   "source": [
    "#### [B]  DISTANCE\n",
    "\n",
    "This simply can be done by using latitudes and longitudes"
   ]
  },
  {
   "cell_type": "code",
   "execution_count": 7,
   "id": "e22ff0da",
   "metadata": {},
   "outputs": [],
   "source": [
    "# %Let's use function to compute distance between coordinates in Kms\n",
    "\n",
    "def calculate_distance(lat1, lng1, lat2, lng2):\n",
    "    lat1, lng1, lat2, lng2 = map(np.radians, (lat1, lng1, lat2, lng2))\n",
    "    \n",
    "    R = 6371  \n",
    "    \n",
    "    lat = lat2 - lat1\n",
    "    \n",
    "    lng = lng2 - lng1\n",
    "    \n",
    "    d = np.sin(lat * 0.5) ** 2 + np.cos(lat1) * np.cos(lat2) * np.sin(lng * 0.5) ** 2\n",
    "    \n",
    "    h = 2 * R * np.arcsin(np.sqrt(d))\n",
    "    \n",
    "    return h\n",
    "\n",
    "\n",
    "# %Let's apply the function\n",
    "df['pickup_to_dropoff_distance'] = calculate_distance(df.pickup_lat, df.pickup_long, df.drop_off_lat, df.drop_off_long)\n",
    "df['rider_to_dropoff_distance'] = calculate_distance(df.rider_lat, df.rider_long, df.drop_off_lat, df.drop_off_long)\n",
    "df['rider_to_pickup_distance'] = calculate_distance(df.rider_lat, df.rider_long, df.pickup_lat, df.pickup_long)"
   ]
  },
  {
   "cell_type": "code",
   "execution_count": 8,
   "id": "768f9228",
   "metadata": {},
   "outputs": [
    {
     "data": {
      "text/html": [
       "<div>\n",
       "<style scoped>\n",
       "    .dataframe tbody tr th:only-of-type {\n",
       "        vertical-align: middle;\n",
       "    }\n",
       "\n",
       "    .dataframe tbody tr th {\n",
       "        vertical-align: top;\n",
       "    }\n",
       "\n",
       "    .dataframe thead th {\n",
       "        text-align: right;\n",
       "    }\n",
       "</style>\n",
       "<table border=\"1\" class=\"dataframe\">\n",
       "  <thead>\n",
       "    <tr style=\"text-align: right;\">\n",
       "      <th></th>\n",
       "      <th>ID</th>\n",
       "      <th>order_id</th>\n",
       "      <th>dispatch_day</th>\n",
       "      <th>dispatch_day_of_week</th>\n",
       "      <th>dispatch_time</th>\n",
       "      <th>client_id</th>\n",
       "      <th>client_type</th>\n",
       "      <th>order_license_status</th>\n",
       "      <th>order_carrier_type</th>\n",
       "      <th>vendor_type</th>\n",
       "      <th>...</th>\n",
       "      <th>target</th>\n",
       "      <th>Rider ID</th>\n",
       "      <th>Active Rider Age</th>\n",
       "      <th>Average Partner Rating</th>\n",
       "      <th>Number of Ratings</th>\n",
       "      <th>dispatch_hour</th>\n",
       "      <th>cat_hour</th>\n",
       "      <th>pickup_to_dropoff_distance</th>\n",
       "      <th>rider_to_dropoff_distance</th>\n",
       "      <th>rider_to_pickup_distance</th>\n",
       "    </tr>\n",
       "  </thead>\n",
       "  <tbody>\n",
       "    <tr>\n",
       "      <th>0</th>\n",
       "      <td>ID_SCUW21PVAU</td>\n",
       "      <td>4435</td>\n",
       "      <td>27</td>\n",
       "      <td>6</td>\n",
       "      <td>2022-02-23 09:02:54</td>\n",
       "      <td>593630</td>\n",
       "      <td>Business</td>\n",
       "      <td>0</td>\n",
       "      <td>2</td>\n",
       "      <td>Bike</td>\n",
       "      <td>...</td>\n",
       "      <td>1</td>\n",
       "      <td>30153</td>\n",
       "      <td>11</td>\n",
       "      <td>10.00</td>\n",
       "      <td>1</td>\n",
       "      <td>9</td>\n",
       "      <td>day</td>\n",
       "      <td>14.426076</td>\n",
       "      <td>16.076117</td>\n",
       "      <td>1.746491</td>\n",
       "    </tr>\n",
       "    <tr>\n",
       "      <th>1</th>\n",
       "      <td>ID_2HA7X30JMN</td>\n",
       "      <td>32711</td>\n",
       "      <td>30</td>\n",
       "      <td>7</td>\n",
       "      <td>2022-02-23 13:01:37</td>\n",
       "      <td>837729</td>\n",
       "      <td>Personal</td>\n",
       "      <td>0</td>\n",
       "      <td>1</td>\n",
       "      <td>Bike</td>\n",
       "      <td>...</td>\n",
       "      <td>2</td>\n",
       "      <td>20884</td>\n",
       "      <td>68</td>\n",
       "      <td>24.13</td>\n",
       "      <td>229</td>\n",
       "      <td>13</td>\n",
       "      <td>day</td>\n",
       "      <td>13.126454</td>\n",
       "      <td>13.417651</td>\n",
       "      <td>0.394373</td>\n",
       "    </tr>\n",
       "    <tr>\n",
       "      <th>2</th>\n",
       "      <td>ID_IAJWDTBY6M</td>\n",
       "      <td>8712</td>\n",
       "      <td>14</td>\n",
       "      <td>2</td>\n",
       "      <td>2022-02-23 10:01:00</td>\n",
       "      <td>695129</td>\n",
       "      <td>Personal</td>\n",
       "      <td>0</td>\n",
       "      <td>2</td>\n",
       "      <td>Bike</td>\n",
       "      <td>...</td>\n",
       "      <td>1</td>\n",
       "      <td>33143</td>\n",
       "      <td>273</td>\n",
       "      <td>24.92</td>\n",
       "      <td>123</td>\n",
       "      <td>10</td>\n",
       "      <td>day</td>\n",
       "      <td>5.421337</td>\n",
       "      <td>7.224872</td>\n",
       "      <td>1.846564</td>\n",
       "    </tr>\n",
       "    <tr>\n",
       "      <th>3</th>\n",
       "      <td>ID_LKSVPNYMTR</td>\n",
       "      <td>44869</td>\n",
       "      <td>22</td>\n",
       "      <td>3</td>\n",
       "      <td>2022-02-23 14:11:16</td>\n",
       "      <td>1504660</td>\n",
       "      <td>Personal</td>\n",
       "      <td>0</td>\n",
       "      <td>2</td>\n",
       "      <td>Bike</td>\n",
       "      <td>...</td>\n",
       "      <td>2</td>\n",
       "      <td>96531</td>\n",
       "      <td>168</td>\n",
       "      <td>23.76</td>\n",
       "      <td>175</td>\n",
       "      <td>14</td>\n",
       "      <td>day</td>\n",
       "      <td>4.609312</td>\n",
       "      <td>4.626603</td>\n",
       "      <td>0.557483</td>\n",
       "    </tr>\n",
       "    <tr>\n",
       "      <th>4</th>\n",
       "      <td>ID_O7N8Y918YH</td>\n",
       "      <td>57590</td>\n",
       "      <td>27</td>\n",
       "      <td>5</td>\n",
       "      <td>2022-02-23 16:11:38</td>\n",
       "      <td>36869</td>\n",
       "      <td>Business</td>\n",
       "      <td>0</td>\n",
       "      <td>2</td>\n",
       "      <td>Bike</td>\n",
       "      <td>...</td>\n",
       "      <td>0</td>\n",
       "      <td>103546</td>\n",
       "      <td>95</td>\n",
       "      <td>24.53</td>\n",
       "      <td>42</td>\n",
       "      <td>16</td>\n",
       "      <td>day</td>\n",
       "      <td>1.554900</td>\n",
       "      <td>1.693870</td>\n",
       "      <td>0.954647</td>\n",
       "    </tr>\n",
       "  </tbody>\n",
       "</table>\n",
       "<p>5 rows × 30 columns</p>\n",
       "</div>"
      ],
      "text/plain": [
       "              ID  order_id  dispatch_day  dispatch_day_of_week  \\\n",
       "0  ID_SCUW21PVAU      4435            27                     6   \n",
       "1  ID_2HA7X30JMN     32711            30                     7   \n",
       "2  ID_IAJWDTBY6M      8712            14                     2   \n",
       "3  ID_LKSVPNYMTR     44869            22                     3   \n",
       "4  ID_O7N8Y918YH     57590            27                     5   \n",
       "\n",
       "        dispatch_time  client_id client_type  order_license_status  \\\n",
       "0 2022-02-23 09:02:54     593630    Business                     0   \n",
       "1 2022-02-23 13:01:37     837729    Personal                     0   \n",
       "2 2022-02-23 10:01:00     695129    Personal                     0   \n",
       "3 2022-02-23 14:11:16    1504660    Personal                     0   \n",
       "4 2022-02-23 16:11:38      36869    Business                     0   \n",
       "\n",
       "   order_carrier_type vendor_type  ...  target  Rider ID  Active Rider Age  \\\n",
       "0                   2        Bike  ...       1     30153                11   \n",
       "1                   1        Bike  ...       2     20884                68   \n",
       "2                   2        Bike  ...       1     33143               273   \n",
       "3                   2        Bike  ...       2     96531               168   \n",
       "4                   2        Bike  ...       0    103546                95   \n",
       "\n",
       "   Average Partner Rating  Number of Ratings  dispatch_hour  cat_hour  \\\n",
       "0                   10.00                  1              9       day   \n",
       "1                   24.13                229             13       day   \n",
       "2                   24.92                123             10       day   \n",
       "3                   23.76                175             14       day   \n",
       "4                   24.53                 42             16       day   \n",
       "\n",
       "   pickup_to_dropoff_distance  rider_to_dropoff_distance  \\\n",
       "0                   14.426076                  16.076117   \n",
       "1                   13.126454                  13.417651   \n",
       "2                    5.421337                   7.224872   \n",
       "3                    4.609312                   4.626603   \n",
       "4                    1.554900                   1.693870   \n",
       "\n",
       "   rider_to_pickup_distance  \n",
       "0                  1.746491  \n",
       "1                  0.394373  \n",
       "2                  1.846564  \n",
       "3                  0.557483  \n",
       "4                  0.954647  \n",
       "\n",
       "[5 rows x 30 columns]"
      ]
     },
     "execution_count": 8,
     "metadata": {},
     "output_type": "execute_result"
    }
   ],
   "source": [
    "df.head()"
   ]
  },
  {
   "cell_type": "markdown",
   "id": "f2686f77",
   "metadata": {},
   "source": [
    "##### DISTRIBUTION OF DISTANCES"
   ]
  },
  {
   "cell_type": "code",
   "execution_count": 9,
   "id": "9b217199",
   "metadata": {},
   "outputs": [
    {
     "data": {
      "image/png": "[encoded data removed]",
      "text/plain": [
       "<Figure size 1080x504 with 1 Axes>"
      ]
     },
     "metadata": {
      "needs_background": "light"
     },
     "output_type": "display_data"
    }
   ],
   "source": [
    "# %Let's view the distribution of the distance between pickup and drop off locations\n",
    "\n",
    "bin_values = np.arange(start=0, stop=40, step=0.3)\n",
    "df['pickup_to_dropoff_distance'].hist(bins=bin_values, figsize=[15,7])\n",
    "plt.ylabel(\"number of orders\")\n",
    "plt.xlabel(\"distance between pickup and drop off locations\")\n",
    "plt.show()"
   ]
  },
  {
   "cell_type": "markdown",
   "id": "3b4c6adb",
   "metadata": {},
   "source": [
    "Most of orders require a rider to cover distance less than 20 KM"
   ]
  },
  {
   "cell_type": "code",
   "execution_count": 10,
   "id": "bdc9a357",
   "metadata": {},
   "outputs": [
    {
     "data": {
      "image/png": "[encoded data removed]",
      "text/plain": [
       "<Figure size 1080x504 with 1 Axes>"
      ]
     },
     "metadata": {
      "needs_background": "light"
     },
     "output_type": "display_data"
    }
   ],
   "source": [
    "# %Let's view the distribution of the distance between pickup and drop off locations\n",
    "\n",
    "bin_values = np.arange(start=0, stop=40, step=0.3)\n",
    "df['rider_to_dropoff_distance'].hist(bins=bin_values, figsize=[15,7])\n",
    "plt.ylabel(\"number of orders\")\n",
    "plt.xlabel(\"between pickup and drop off locations\")\n",
    "plt.show()"
   ]
  },
  {
   "cell_type": "code",
   "execution_count": 11,
   "id": "a91dc829",
   "metadata": {},
   "outputs": [
    {
     "data": {
      "image/png": "[encoded data removed]",
      "text/plain": [
       "<Figure size 1080x504 with 1 Axes>"
      ]
     },
     "metadata": {
      "needs_background": "light"
     },
     "output_type": "display_data"
    }
   ],
   "source": [
    "# %Let's view the distribution of the distance between rider and pickup locations\n",
    "\n",
    "bin_values = np.arange(start=0, stop=10, step=0.3)\n",
    "df['rider_to_pickup_distance'].hist(bins=bin_values, figsize=[15,7])\n",
    "plt.ylabel(\"number of orders\")\n",
    "plt.xlabel(\"distance between rider and pickup locations\")\n",
    "plt.show()"
   ]
  },
  {
   "cell_type": "markdown",
   "id": "88fc7fbe",
   "metadata": {},
   "source": [
    "#### [C]  RATINGS"
   ]
  },
  {
   "cell_type": "code",
   "execution_count": 12,
   "id": "8289e20c",
   "metadata": {},
   "outputs": [],
   "source": [
    "# %Let's find rating factor for a particular rider\n",
    "df['RF_@rider'] = df['Number of Ratings'] * df['Average Partner Rating']"
   ]
  },
  {
   "cell_type": "code",
   "execution_count": 13,
   "id": "bc53d931",
   "metadata": {},
   "outputs": [
    {
     "data": {
      "text/plain": [
       "(179867, 31)"
      ]
     },
     "execution_count": 13,
     "metadata": {},
     "output_type": "execute_result"
    }
   ],
   "source": [
    "df.shape"
   ]
  },
  {
   "cell_type": "code",
   "execution_count": 14,
   "id": "6f03c49d",
   "metadata": {},
   "outputs": [],
   "source": [
    "# %Before hand let's remove some Columns\n",
    "\n",
    "df.drop([\"ID\",\"order_id\",\"dispatch_time\",\"client_id\",\"rider_id\",\"Rider ID\"], axis=1, inplace=True)"
   ]
  },
  {
   "cell_type": "markdown",
   "id": "5b1a0bc4",
   "metadata": {},
   "source": [
    "### SAVING CLEAN DATA"
   ]
  },
  {
   "cell_type": "code",
   "execution_count": 15,
   "id": "159e56c5",
   "metadata": {},
   "outputs": [],
   "source": [
    "df.to_csv(\"../data/Final_data_0.csv\",index=False)"
   ]
  }
 ],
 "metadata": {
  "kernelspec": {
   "display_name": "Python 3 (ipykernel)",
   "language": "python",
   "name": "python3"
  },
  "language_info": {
   "codemirror_mode": {
    "name": "ipython",
    "version": 3
   },
   "file_extension": ".py",
   "mimetype": "text/x-python",
   "name": "python",
   "nbconvert_exporter": "python",
   "pygments_lexer": "ipython3",
   "version": "3.9.7"
  }
 },
 "nbformat": 4,
 "nbformat_minor": 5
}
